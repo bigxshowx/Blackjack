{
 "cells": [
  {
   "cell_type": "code",
   "execution_count": 1,
   "id": "89021a8d",
   "metadata": {},
   "outputs": [
    {
     "name": "stdout",
     "output_type": "stream",
     "text": [
      "ok \n",
      "ok \n",
      "ok \n",
      "ok \n",
      "ok \n",
      "ok \n",
      "ok \n",
      "ok \n",
      "ok \n",
      "ok \n",
      "\n"
     ]
    }
   ],
   "source": [
    "print(\"ok \\n\" * 10)"
   ]
  },
  {
   "cell_type": "code",
   "execution_count": null,
   "id": "0cc7a106",
   "metadata": {},
   "outputs": [],
   "source": []
  }
 ],
 "metadata": {
  "kernelspec": {
   "display_name": "Python 3 (ipykernel)",
   "language": "python",
   "name": "python3"
  },
  "language_info": {
   "codemirror_mode": {
    "name": "ipython",
    "version": 3
   },
   "file_extension": ".py",
   "mimetype": "text/x-python",
   "name": "python",
   "nbconvert_exporter": "python",
   "pygments_lexer": "ipython3",
   "version": "3.11.2"
  }
 },
 "nbformat": 4,
 "nbformat_minor": 5
}
